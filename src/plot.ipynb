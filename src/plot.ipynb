{
 "cells": [
  {
   "cell_type": "code",
   "execution_count": null,
   "metadata": {},
   "outputs": [],
   "source": [
    "import numpy as np\n",
    "import matplotlib.pyplot as plt\n",
    "import seaborn as sns\n",
    "from matplotlib.colors import ListedColormap\n",
    "\n",
    "base_model= 'llama-2-7b'\n",
    "base_layer, test_layer = 32, 32\n",
    "dataset_name = 'truthfulqa-200'\n",
    "\n",
    "test_model_list =  [\n",
    "    'llama-2-7b', 'llama-2-7b-chat', \n",
    "    'llama-2-finance-7b', 'vicuna-7b-v1.5', 'wizardmath-7b', 'chinese-llama-2-7b', 'codellama-7b', 'llemma-7b'\n",
    "    'Sheared-LLaMA-1.3B-Pruned', 'Sheared-LLaMA-1.3B', 'Sheared-LLaMA-1.3B-ShareGPT'\n",
    "    'Sheared-LLaMA-2.7B-Pruned', 'Sheared-LLaMA-2.7B', 'Sheared-LLaMA-2.7B-ShareGPT'\n",
    "    'wandallama-2-7b', 'gblmllama-2-7b', 'sparsellama-2-7b',\n",
    "    'openllama-2-7b', 'mpt-7b','xwinlm-7b','llama-3-8b', 'amber', 'internlm-7b'\n",
    "]\n",
    "\n",
    "blues = plt.cm.Blues(np.linspace(0, 0.9, 256))\n",
    "light_blues_cmap = ListedColormap(blues)\n",
    "\n",
    "for test_model in test_model_list:\n",
    "\n",
    "    cka_matrix = np.load(f'results/cka-matrix/{dataset_name}/{base_model}_{test_model}.npy')\n",
    "\n",
    "    plt.figure(figsize=(10, 8))\n",
    "    sns.heatmap(\n",
    "        np.flip(cka_matrix, axis=0), \n",
    "        vmin=0, vmax=1, \n",
    "        cmap=sns.color_palette(\"YlGnBu\", as_cmap=True), \n",
    "        xticklabels=[idx if idx % 8 == 0 else '' for idx in range(test_layer)],\n",
    "        yticklabels=[idx if idx % 8 == 0 else '' for idx in range(31, -1, -1)],\n",
    "        xticklabels=False,\n",
    "        yticklabels=False,\n",
    "    )\n",
    "\n",
    "\n",
    "    plt.title(f'CKA Heatmap between {base_model} and {test_model} Layers')\n",
    "    plt.xlabel(f'{test_model} Layers')\n",
    "    plt.ylabel(f'{base_model} Layers')\n",
    "    plt.show()"
   ]
  }
 ],
 "metadata": {
  "language_info": {
   "name": "python"
  }
 },
 "nbformat": 4,
 "nbformat_minor": 2
}
